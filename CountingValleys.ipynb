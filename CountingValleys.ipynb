{
 "metadata": {
  "language_info": {
   "codemirror_mode": {
    "name": "ipython",
    "version": 3
   },
   "file_extension": ".py",
   "mimetype": "text/x-python",
   "name": "python",
   "nbconvert_exporter": "python",
   "pygments_lexer": "ipython3",
   "version": "3.6.13"
  },
  "orig_nbformat": 2,
  "kernelspec": {
   "name": "python3613jvsc74a57bd06118d7d22ced91c61bad6104c41ae5ce7cd6d6744d4a8ec0ccf7e2259c0666d1",
   "display_name": "Python 3.6.13 64-bit ('ai': conda)"
  }
 },
 "nbformat": 4,
 "nbformat_minor": 2,
 "cells": [
  {
   "cell_type": "code",
   "execution_count": 1,
   "metadata": {},
   "outputs": [],
   "source": [
    "# Complete the 'countingValleys' function below.\n",
    "#\n",
    "# The function is expected to return an INTEGER.\n",
    "# The function accepts following parameters:\n",
    "#  1. INTEGER steps\n",
    "#  2. STRING path\n",
    "#\n"
   ]
  },
  {
   "cell_type": "code",
   "execution_count": 2,
   "metadata": {},
   "outputs": [],
   "source": [
    "# Function Description\n",
    "\n",
    "# Complete the countingValleys function in the editor below.\n",
    "\n",
    "# countingValleys has the following parameter(s):\n",
    "\n",
    "# int steps: the number of steps on the hike\n",
    "# string path: a string describing the path\n",
    "# Returns\n",
    "\n",
    "# int: the number of valleys traversed"
   ]
  },
  {
   "cell_type": "code",
   "execution_count": 22,
   "metadata": {},
   "outputs": [],
   "source": [
    "def countingValleys(steps, path):\n",
    "    dist_sea_level = 0\n",
    "    up = 1\n",
    "    down = -1\n",
    "    inValley = False\n",
    "    valleyCount = 0\n",
    "\n",
    "    for p in path :\n",
    "        \n",
    "        if p == 'U' :\n",
    "            dist_sea_level += up\n",
    "            if dist_sea_level >= 0 and  inValley:\n",
    "                inValley = False\n",
    "        elif p == 'D' :\n",
    "            dist_sea_level += down\n",
    "            if dist_sea_level < 0 and not inValley:\n",
    "                inValley = True\n",
    "                valleyCount += 1\n",
    "        else : \n",
    "            return\n",
    "            \n",
    "    return valleyCount"
   ]
  },
  {
   "cell_type": "code",
   "execution_count": 23,
   "metadata": {},
   "outputs": [
    {
     "output_type": "execute_result",
     "data": {
      "text/plain": [
       "1"
      ]
     },
     "metadata": {},
     "execution_count": 23
    }
   ],
   "source": [
    "countingValleys(8, 'UDDDUDUU')"
   ]
  },
  {
   "cell_type": "code",
   "execution_count": null,
   "metadata": {},
   "outputs": [],
   "source": []
  }
 ]
}