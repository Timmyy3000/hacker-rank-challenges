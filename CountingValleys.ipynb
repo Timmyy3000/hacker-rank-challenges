{
 "metadata": {
  "language_info": {
   "codemirror_mode": {
    "name": "ipython",
    "version": 3
   },
   "file_extension": ".py",
   "mimetype": "text/x-python",
   "name": "python",
   "nbconvert_exporter": "python",
   "pygments_lexer": "ipython3",
   "version": "3.6.13"
  },
  "orig_nbformat": 2,
  "kernelspec": {
   "name": "python3613jvsc74a57bd06118d7d22ced91c61bad6104c41ae5ce7cd6d6744d4a8ec0ccf7e2259c0666d1",
   "display_name": "Python 3.6.13 64-bit ('ai': conda)"
  }
 },
 "nbformat": 4,
 "nbformat_minor": 2,
 "cells": [
  {
   "cell_type": "code",
   "execution_count": 1,
   "metadata": {},
   "outputs": [],
   "source": [
    "# Complete the 'countingValleys' function below.\n",
    "#\n",
    "# The function is expected to return an INTEGER.\n",
    "# The function accepts following parameters:\n",
    "#  1. INTEGER steps\n",
    "#  2. STRING path\n",
    "#\n"
   ]
  },
  {
   "cell_type": "code",
   "execution_count": 8,
   "metadata": {},
   "outputs": [],
   "source": [
    "# Function Description\n",
    "\n",
    "# Complete the countingValleys function in the editor below.\n",
    "\n",
    "# countingValleys has the following parameter(s):\n",
    "\n",
    "# int steps: the number of steps on the hike\n",
    "# string path: a string describing the path\n",
    "# Returns\n",
    "\n",
    "# int: the number of valleys traversed\n",
    "\n",
    "import numpy as np"
   ]
  },
  {
   "cell_type": "code",
   "execution_count": 2,
   "metadata": {},
   "outputs": [],
   "source": [
    "def countingValleys(steps, path):\n",
    "    dist_sea_level = 0\n",
    "    up = 1\n",
    "    down = -1\n",
    "    valleyCount = 0\n",
    "\n",
    "    for i, p in enumerate(path) :\n",
    "        \n",
    "        if p == 'U' :\n",
    "            dist_sea_level += up\n",
    "           \n",
    "\n",
    "            if dist_sea_level == 0   :\n",
    "                valleyCount += 1\n",
    "               \n",
    "        elif p == 'D' :\n",
    "            \n",
    "   \n",
    "            dist_sea_level += down\n",
    "            \n",
    "        else : \n",
    "            return\n",
    "            \n",
    "    return valleyCount\n",
    "\n",
    "\n",
    "\n"
   ]
  },
  {
   "cell_type": "code",
   "execution_count": 3,
   "metadata": {},
   "outputs": [
    {
     "output_type": "execute_result",
     "data": {
      "text/plain": [
       "1"
      ]
     },
     "metadata": {},
     "execution_count": 3
    }
   ],
   "source": [
    "countingValleys(6, 'UDDDUDUU')"
   ]
  },
  {
   "cell_type": "code",
   "execution_count": 13,
   "metadata": {},
   "outputs": [
    {
     "output_type": "error",
     "ename": "TypeError",
     "evalue": "'type' object does not support item assignment",
     "traceback": [
      "\u001b[1;31m---------------------------------------------------------------------------\u001b[0m",
      "\u001b[1;31mTypeError\u001b[0m                                 Traceback (most recent call last)",
      "\u001b[1;32m<ipython-input-13-13b4ab6810cd>\u001b[0m in \u001b[0;36m<module>\u001b[1;34m\u001b[0m\n\u001b[0;32m     68\u001b[0m \u001b[1;33m\u001b[0m\u001b[0m\n\u001b[0;32m     69\u001b[0m \u001b[1;33m\u001b[0m\u001b[0m\n\u001b[1;32m---> 70\u001b[1;33m \u001b[0mdrawPath\u001b[0m\u001b[1;33m(\u001b[0m\u001b[1;34m'UUUUUUUU'\u001b[0m\u001b[1;33m)\u001b[0m\u001b[1;33m\u001b[0m\u001b[1;33m\u001b[0m\u001b[0m\n\u001b[0m",
      "\u001b[1;32m<ipython-input-13-13b4ab6810cd>\u001b[0m in \u001b[0;36mdrawPath\u001b[1;34m(path)\u001b[0m\n\u001b[0;32m     16\u001b[0m             \u001b[1;32mif\u001b[0m \u001b[0mp\u001b[0m \u001b[1;33m==\u001b[0m \u001b[1;34m'U'\u001b[0m \u001b[1;33m:\u001b[0m\u001b[1;33m\u001b[0m\u001b[1;33m\u001b[0m\u001b[0m\n\u001b[0;32m     17\u001b[0m                 \u001b[0mdist_sea_level\u001b[0m \u001b[1;33m+=\u001b[0m \u001b[0mup\u001b[0m\u001b[1;33m\u001b[0m\u001b[1;33m\u001b[0m\u001b[0m\n\u001b[1;32m---> 18\u001b[1;33m                 \u001b[0mdict\u001b[0m\u001b[1;33m[\u001b[0m\u001b[0mi\u001b[0m\u001b[1;33m]\u001b[0m \u001b[1;33m=\u001b[0m \u001b[1;33m[\u001b[0m\u001b[1;34m'U'\u001b[0m\u001b[1;33m,\u001b[0m \u001b[0mdist_sea_level\u001b[0m\u001b[1;33m]\u001b[0m\u001b[1;33m\u001b[0m\u001b[1;33m\u001b[0m\u001b[0m\n\u001b[0m\u001b[0;32m     19\u001b[0m                 \u001b[0mdistances\u001b[0m\u001b[1;33m.\u001b[0m\u001b[0mappend\u001b[0m\u001b[1;33m(\u001b[0m\u001b[0mdist_sea_level\u001b[0m\u001b[1;33m)\u001b[0m\u001b[1;33m\u001b[0m\u001b[1;33m\u001b[0m\u001b[0m\n\u001b[0;32m     20\u001b[0m                 \u001b[1;32mif\u001b[0m \u001b[0mdist_sea_level\u001b[0m \u001b[1;33m==\u001b[0m \u001b[1;36m0\u001b[0m   \u001b[1;33m:\u001b[0m\u001b[1;33m\u001b[0m\u001b[1;33m\u001b[0m\u001b[0m\n",
      "\u001b[1;31mTypeError\u001b[0m: 'type' object does not support item assignment"
     ]
    }
   ],
   "source": [
    "def drawPath(path):\n",
    "    dist_sea_level = 0\n",
    "    up = 1\n",
    "    down = -1\n",
    "    valleyCount = 0\n",
    "    path_dict = {}\n",
    "    distances = []\n",
    "   \n",
    "    counter = 0\n",
    "    draw = []\n",
    "\n",
    "    if len(path) > 0 :\n",
    "\n",
    "        for i, p in enumerate(path) :\n",
    "            \n",
    "            if p == 'U' :\n",
    "                dist_sea_level += up\n",
    "                dict[i] = ['U', dist_sea_level]\n",
    "                distances.append(dist_sea_level)\n",
    "                if dist_sea_level == 0   :\n",
    "                    valleyCount += 1\n",
    "                \n",
    "            elif p == 'D' :\n",
    "                dict[i] = ['D', dist_sea_level]\n",
    "                distances.append(dist_sea_level)\n",
    "                dist_sea_level += down\n",
    "                \n",
    "            else : \n",
    "                return\n",
    "        \n",
    "        values = path_dict.values()\n",
    "        highest = np.max(distances)\n",
    "        lowest = np.min(distances)\n",
    "\n",
    "        gap = highest - lowest + 1\n",
    "\n",
    "        for i in range(gap):\n",
    "            draw.append([])\n",
    "    \n",
    "        \n",
    "            for j in path_dict :\n",
    "                if path_dict[j][1] == highest :\n",
    "                    if path_dict[j][0] == 'U':\n",
    "                        draw[i].append(['/', j])\n",
    "                    if path_dict[j][0] == 'D':\n",
    "                        draw[i].append([\"\\\\\", j])\n",
    "\n",
    "            highest -= 1\n",
    "            if highest < lowest :\n",
    "                break\n",
    "\n",
    "        for row in draw :\n",
    "            word = ''\n",
    "            lim = len(row)\n",
    "            for i, p in enumerate(row) :\n",
    "            \n",
    "                if i == 0:\n",
    "                    blank = '_' * row[i][1]\n",
    "                    char = blank + row[i][0]\n",
    "                    word += char \n",
    "                else :\n",
    "                    blank_rate = row[i][1] - row[i - 1][1] -1\n",
    "                    blank = '_' * blank_rate\n",
    "                    char = blank + row[i][0]\n",
    "                    word += char\n",
    "            \n",
    "            print(word)\n",
    "        \n",
    "\n",
    "drawPath('UUUUUUUU')\n"
   ]
  },
  {
   "cell_type": "code",
   "execution_count": 40,
   "metadata": {},
   "outputs": [],
   "source": [
    "\n",
    "\n",
    "\n",
    "        "
   ]
  },
  {
   "cell_type": "code",
   "execution_count": null,
   "metadata": {},
   "outputs": [],
   "source": []
  },
  {
   "cell_type": "code",
   "execution_count": null,
   "metadata": {},
   "outputs": [],
   "source": []
  }
 ]
}