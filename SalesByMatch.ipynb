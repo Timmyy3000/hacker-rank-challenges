{
 "metadata": {
  "language_info": {
   "codemirror_mode": {
    "name": "ipython",
    "version": 3
   },
   "file_extension": ".py",
   "mimetype": "text/x-python",
   "name": "python",
   "nbconvert_exporter": "python",
   "pygments_lexer": "ipython3",
   "version": "3.6.13"
  },
  "orig_nbformat": 2,
  "kernelspec": {
   "name": "python3613jvsc74a57bd06118d7d22ced91c61bad6104c41ae5ce7cd6d6744d4a8ec0ccf7e2259c0666d1",
   "display_name": "Python 3.6.13 64-bit ('ai': conda)"
  }
 },
 "nbformat": 4,
 "nbformat_minor": 2,
 "cells": [
  {
   "cell_type": "code",
   "execution_count": 1,
   "metadata": {},
   "outputs": [],
   "source": [
    "#\n",
    "# Complete the 'sockMerchant' function below.\n",
    "#\n",
    "# The function is expected to return an INTEGER.\n",
    "# The function accepts following parameters:\n",
    "#  1. INTEGER n\n",
    "#  2. INTEGER_ARRAY ar\n",
    "#\n",
    "\n"
   ]
  },
  {
   "cell_type": "code",
   "execution_count": 51,
   "metadata": {},
   "outputs": [],
   "source": [
    "def sockMerchant(n, ar): \n",
    "\n",
    "    temp_ar = ar\n",
    "    pairs = 0\n",
    "\n",
    "    for i in range(n):\n",
    "        if temp_ar:\n",
    "            term = temp_ar.pop(0)\n",
    "            for a in ar:\n",
    "                if term == a :\n",
    "                    pairs += 1\n",
    "                    ar.remove(a)\n",
    "                    break\n",
    "        else :\n",
    "            return pairs\n",
    "\n",
    "    return pairs             \n",
    "\n",
    "        \n"
   ]
  },
  {
   "cell_type": "code",
   "execution_count": 52,
   "metadata": {},
   "outputs": [
    {
     "output_type": "execute_result",
     "data": {
      "text/plain": [
       "0"
      ]
     },
     "metadata": {},
     "execution_count": 52
    }
   ],
   "source": [
    "sockMerchant(1, [100]) \n",
    "\n",
    "# Expected Output -> 3"
   ]
  },
  {
   "cell_type": "code",
   "execution_count": 65,
   "metadata": {},
   "outputs": [
    {
     "output_type": "stream",
     "name": "stdout",
     "text": [
      "3\n"
     ]
    }
   ],
   "source": [
    "#Alternative Solutions from Hackerrank Comments\n",
    "\n",
    "from collections import Counter\n",
    "\n",
    "#socks, pairs = Counter(map(int,[1,1,100,100])), 0\n",
    "# for s in socks: pairs += socks[s]//2\n",
    "# print(pairs)\n",
    "\n",
    "\n",
    "socks = [1,1,100,100, 1,9,9,]\n",
    "pairs = 0\n",
    "\n",
    "for element in set(socks):\n",
    "\tpairs += socks.count(element) // 2\n",
    "print(pairs)"
   ]
  },
  {
   "cell_type": "code",
   "execution_count": null,
   "metadata": {},
   "outputs": [],
   "source": []
  }
 ]
}